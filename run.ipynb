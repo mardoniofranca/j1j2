{
 "cells": [
  {
   "cell_type": "code",
   "execution_count": 1,
   "id": "429be69c",
   "metadata": {},
   "outputs": [
    {
     "name": "stdout",
     "output_type": "stream",
     "text": [
      "-----------------------------------------------------------\n",
      "Configuration\n",
      "-----------------------------------------------------------\n",
      "Run\n"
     ]
    }
   ],
   "source": [
    "%run ./conf.ipynb"
   ]
  },
  {
   "cell_type": "code",
   "execution_count": null,
   "id": "0546a213",
   "metadata": {},
   "outputs": [
    {
     "name": "stdout",
     "output_type": "stream",
     "text": [
      "0 [0.0, 1.0]\n",
      "------------------------------------------\n",
      "0\n"
     ]
    },
    {
     "name": "stderr",
     "output_type": "stream",
     "text": [
      "100%|█| 1200/1200 [04:43<00:00,  4.24it/s, Energy=-22.8367-0.0038j ± 0.0043 [σ²=\n"
     ]
    },
    {
     "name": "stdout",
     "output_type": "stream",
     "text": [
      "0 0 0.0 1.0 0.28571428571428514 -22.841434054773543 0.28571428571428553 -22.839983611692816\n",
      "1 [0.01745240643728351, 0.9998476951563913]\n",
      "------------------------------------------\n",
      "1\n"
     ]
    },
    {
     "name": "stderr",
     "output_type": "stream",
     "text": [
      "100%|█| 1200/1200 [05:01<00:00,  3.98it/s, Energy=-22.856+0.002j ± 0.013 [σ²=0.1\n"
     ]
    },
    {
     "name": "stdout",
     "output_type": "stream",
     "text": [
      "1 1 0.01745240643728351 0.9998476951563913 0.28571948640985256 -22.88845150874177 0.28603174603174586 -22.866909838095804\n",
      "2 [0.03489949670250097, 0.9993908270190958]\n",
      "------------------------------------------\n",
      "2\n"
     ]
    },
    {
     "name": "stderr",
     "output_type": "stream",
     "text": [
      " 83%|▊| 996/1200 [04:05<00:54,  3.76it/s, Energy=-22.856+0.008j ± 0.015 [σ²=0.21"
     ]
    }
   ],
   "source": [
    "w = 0\n",
    "for i in range(0,370):\n",
    "    rad = math.radians(w)\n",
    "    sin = math.sin(rad)\n",
    "    cos = math.cos(rad)\n",
    "    j1  = sin\n",
    "    j2  = cos\n",
    "    J     = [j1,j2]\n",
    "    print(w, J)\n",
    "    %run ./j1_j2.ipynb   \n",
    "    w   = w + 1"
   ]
  },
  {
   "cell_type": "code",
   "execution_count": null,
   "id": "cac83e97",
   "metadata": {},
   "outputs": [],
   "source": []
  }
 ],
 "metadata": {
  "kernelspec": {
   "display_name": "Python 3 (ipykernel)",
   "language": "python",
   "name": "python3"
  },
  "language_info": {
   "codemirror_mode": {
    "name": "ipython",
    "version": 3
   },
   "file_extension": ".py",
   "mimetype": "text/x-python",
   "name": "python",
   "nbconvert_exporter": "python",
   "pygments_lexer": "ipython3",
   "version": "3.10.12"
  }
 },
 "nbformat": 4,
 "nbformat_minor": 5
}
