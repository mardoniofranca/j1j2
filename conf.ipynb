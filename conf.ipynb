{
 "cells": [
  {
   "cell_type": "code",
   "execution_count": null,
   "id": "f96daae2",
   "metadata": {},
   "outputs": [],
   "source": [
    "print(\"-----------------------------------------------------------\")\n",
    "print(\"Configuration\")"
   ]
  },
  {
   "cell_type": "code",
   "execution_count": null,
   "id": "9f1a1418",
   "metadata": {},
   "outputs": [],
   "source": [
    "import os\n",
    "os.environ[\"JAX_PLATFORM_NAME\"] = \"cpu\"\n",
    "import netket as nk\n",
    "import numpy as np\n",
    "import matplotlib.pyplot as plt\n",
    "import matplotlib\n",
    "from matplotlib.offsetbox import AnchoredText\n",
    "import json\n",
    "import netket.nn as nknn\n",
    "import flax.linen as nn\n",
    "import jax.numpy as jnp\n",
    "import warnings\n",
    "warnings.filterwarnings('ignore')\n",
    "import pandas as pd\n",
    "import math "
   ]
  },
  {
   "cell_type": "code",
   "execution_count": null,
   "id": "4fd5a93a",
   "metadata": {},
   "outputs": [],
   "source": [
    "class FFNN(nn.Module):\n",
    "    @nn.compact\n",
    "    def __call__(self, x):\n",
    "        x = nn.Dense(features=2*x.shape[-1], \n",
    "                     use_bias=True, \n",
    "                     param_dtype=np.complex128, \n",
    "                     kernel_init=nn.initializers.normal(stddev=0.01), \n",
    "                     bias_init=nn.initializers.normal(stddev=0.01)\n",
    "                    )(x)\n",
    "        x = nknn.log_cosh(x)\n",
    "        x = jnp.sum(x, axis=-1)\n",
    "        return x"
   ]
  },
  {
   "cell_type": "code",
   "execution_count": null,
   "id": "0d39aae1",
   "metadata": {},
   "outputs": [],
   "source": [
    "print(\"-----------------------------------------------------------\")\n",
    "print(\"Run\")"
   ]
  },
  {
   "cell_type": "code",
   "execution_count": null,
   "id": "5a4f835f",
   "metadata": {},
   "outputs": [],
   "source": [
    "pi = math.pi\n",
    "L     = 14    "
   ]
  }
 ],
 "metadata": {
  "kernelspec": {
   "display_name": "Python 3 (ipykernel)",
   "language": "python",
   "name": "python3"
  },
  "language_info": {
   "codemirror_mode": {
    "name": "ipython",
    "version": 3
   },
   "file_extension": ".py",
   "mimetype": "text/x-python",
   "name": "python",
   "nbconvert_exporter": "python",
   "pygments_lexer": "ipython3",
   "version": "3.10.12"
  }
 },
 "nbformat": 4,
 "nbformat_minor": 5
}
