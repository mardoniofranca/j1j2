{
 "cells": [
  {
   "cell_type": "code",
   "execution_count": null,
   "id": "f9a9d30a",
   "metadata": {},
   "outputs": [],
   "source": [
    "print(\"------------------------------------------\")\n",
    "PARAM = i\n",
    "print(PARAM)"
   ]
  },
  {
   "cell_type": "code",
   "execution_count": null,
   "id": "e12d9e8a",
   "metadata": {},
   "outputs": [],
   "source": [
    "# Define custom graph\n",
    "edge_colors = []\n",
    "for i in range(L):\n",
    "    edge_colors.append([i, (i+1)%L, 1])\n",
    "    edge_colors.append([i, (i+2)%L, 2])\n",
    "\n",
    "# Define the netket graph object\n",
    "g = nk.graph.Graph(edges=edge_colors)"
   ]
  },
  {
   "cell_type": "code",
   "execution_count": null,
   "id": "005f2c2e",
   "metadata": {},
   "outputs": [],
   "source": [
    "#Sigma^z*Sigma^z interactions\n",
    "sigmaz = [[1, 0], [0, -1]]\n",
    "mszsz = (np.kron(sigmaz, sigmaz))\n",
    "\n",
    "#Exchange interactions\n",
    "exchange = np.asarray([[0, 0, 0, 0], [0, 0, 2, 0], [0, 2, 0, 0], [0, 0, 0, 0]])\n",
    "\n",
    "bond_operator = [\n",
    "    (J[0] * mszsz).tolist(),\n",
    "    (J[1] * mszsz).tolist(),\n",
    "    (-J[0] * exchange).tolist(),  \n",
    "    (J[1] * exchange).tolist(),\n",
    "]\n",
    "\n",
    "bond_color = [1, 2, 1, 2]"
   ]
  },
  {
   "cell_type": "code",
   "execution_count": null,
   "id": "dccdd234",
   "metadata": {},
   "outputs": [],
   "source": [
    "# Spin based Hilbert Space\n",
    "hi = nk.hilbert.Spin(s=0.5, total_sz=0.0, N=g.n_nodes)"
   ]
  },
  {
   "cell_type": "code",
   "execution_count": null,
   "id": "6a3c768f",
   "metadata": {},
   "outputs": [],
   "source": [
    "# Custom Hamiltonian operator\n",
    "op = nk.operator.GraphOperator(hi, graph=g, bond_ops=bond_operator, bond_ops_colors=bond_color)"
   ]
  },
  {
   "cell_type": "code",
   "execution_count": null,
   "id": "70dedb41",
   "metadata": {},
   "outputs": [],
   "source": [
    "model = FFNN() #Neural Network"
   ]
  },
  {
   "cell_type": "code",
   "execution_count": null,
   "id": "8780001d",
   "metadata": {},
   "outputs": [],
   "source": [
    "# We shall use an exchange Sampler which preserves the global magnetization (as this is a conserved quantity in the model)\n",
    "sa = nk.sampler.MetropolisExchange(hilbert=hi, graph=g, d_max = 2)\n",
    "\n",
    "# Construct the variational state\n",
    "vs = nk.vqs.MCState(sa, model, n_samples=1008) #use model\n",
    "\n",
    "# We choose a basic, albeit important, Optimizer: the Stochastic Gradient Descent\n",
    "opt = nk.optimizer.Sgd(learning_rate=0.01)\n",
    "\n",
    "# Stochastic Reconfiguration\n",
    "sr = nk.optimizer.SR(diag_shift=0.01)\n",
    "\n",
    "# We can then specify a Variational Monte Carlo object, using the Hamiltonian, sampler and optimizers chosen.\n",
    "# Note that we also specify the method to learn the parameters of the wave-function: here we choose the efficient\n",
    "# Stochastic reconfiguration (Sr), here in an iterative setup\n",
    "gs = nk.VMC(hamiltonian=op, optimizer=opt, variational_state=vs, preconditioner=sr) #use vs"
   ]
  },
  {
   "cell_type": "code",
   "execution_count": null,
   "id": "7fba25e3",
   "metadata": {},
   "outputs": [],
   "source": [
    "# We need to specify the local operators as a matrix acting on a local Hilbert space \n",
    "sf = []\n",
    "sites = []\n",
    "structure_factor = nk.operator.LocalOperator(hi, dtype=complex)\n",
    "for i in range(0, L):\n",
    "    for j in range(0, L):\n",
    "        structure_factor += (nk.operator.spin.sigmaz(hi, i)*nk.operator.spin.sigmaz(hi, j))*((-1)**(i-j))/L"
   ]
  },
  {
   "cell_type": "code",
   "execution_count": null,
   "id": "e740405d",
   "metadata": {},
   "outputs": [],
   "source": [
    "# Run the optimization protocol\n",
    "param_file =\"log/\" + str(PARAM)\n",
    "gs.run(out=param_file, n_iter=1200, obs={'Structure Factor': structure_factor})"
   ]
  },
  {
   "cell_type": "code",
   "execution_count": null,
   "id": "924c3783",
   "metadata": {},
   "outputs": [],
   "source": [
    "data=json.load(open(param_file + \".log\"))\n",
    "iters = data['Energy']['iters']\n",
    "energy=data['Energy']['Mean']['real']\n",
    "sf=data['Structure Factor']['Mean']['real']"
   ]
  },
  {
   "cell_type": "code",
   "execution_count": null,
   "id": "c25926b2",
   "metadata": {},
   "outputs": [],
   "source": [
    "E_gs, ket_gs = nk.exact.lanczos_ed(op, compute_eigenvectors=True)\n",
    "structure_factor_gs = (ket_gs.T.conj()@structure_factor.to_linear_operator()@ket_gs).real[0,0]"
   ]
  },
  {
   "cell_type": "code",
   "execution_count": null,
   "id": "ea6edc28",
   "metadata": {},
   "outputs": [],
   "source": [
    "print(PARAM,w,j1,j2,\n",
    "      structure_factor_gs,\n",
    "      E_gs[0],\n",
    "      np.mean(sf[-50:]),\n",
    "      np.mean(energy[-50:]))"
   ]
  },
  {
   "cell_type": "code",
   "execution_count": null,
   "id": "3ac5ca69",
   "metadata": {},
   "outputs": [],
   "source": [
    "v = []"
   ]
  },
  {
   "cell_type": "code",
   "execution_count": null,
   "id": "1f3c60f4",
   "metadata": {},
   "outputs": [],
   "source": [
    "rad = w*2/360\n",
    "l = [PARAM,\n",
    "     w,\n",
    "     j1,\n",
    "     j2,\n",
    "     structure_factor_gs,\n",
    "     E_gs[0],\n",
    "     np.mean(sf[-50:]),\n",
    "     np.mean(energy[-50:]),\n",
    "    rad]\n",
    "\n",
    "v.append(l)"
   ]
  },
  {
   "cell_type": "code",
   "execution_count": null,
   "id": "a074aa64",
   "metadata": {},
   "outputs": [],
   "source": [
    "df = pd.DataFrame(v, columns=['i', 'w', 'j1', 'j2',\n",
    "                              'factor_e', 'exact_e_0', 'factor_c', 'calc_e_0','rad'])"
   ]
  },
  {
   "cell_type": "code",
   "execution_count": null,
   "id": "f75f70fc",
   "metadata": {},
   "outputs": [],
   "source": [
    "file = \"data/df_\" + str(PARAM) + \".csv\""
   ]
  },
  {
   "cell_type": "code",
   "execution_count": null,
   "id": "e6f34d0d",
   "metadata": {},
   "outputs": [],
   "source": [
    "df.to_csv(file, index=None)"
   ]
  }
 ],
 "metadata": {
  "kernelspec": {
   "display_name": "Python 3 (ipykernel)",
   "language": "python",
   "name": "python3"
  },
  "language_info": {
   "codemirror_mode": {
    "name": "ipython",
    "version": 3
   },
   "file_extension": ".py",
   "mimetype": "text/x-python",
   "name": "python",
   "nbconvert_exporter": "python",
   "pygments_lexer": "ipython3",
   "version": "3.10.12"
  }
 },
 "nbformat": 4,
 "nbformat_minor": 5
}
